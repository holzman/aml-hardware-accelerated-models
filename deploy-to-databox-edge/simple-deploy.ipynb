{
 "cells": [
  {
   "cell_type": "markdown",
   "metadata": {},
   "source": [
    "## Deploy Azure ML Models to IoT Edge Devices - Using Python SDK\n",
    "You can use the Azure Machine Learning Python SDK to deploy models to IoT Edge devices if your IoT Hub is in the same subscription as your Azure ML Workspace. Otherwise, you will need to deploy using the Azure IoT CLI or the Azure Portal. \n"
   ]
  },
  {
   "cell_type": "markdown",
   "metadata": {},
   "source": [
    "### 1. Retrieve your Azure ML Workspace"
   ]
  },
  {
   "cell_type": "code",
   "execution_count": 7,
   "metadata": {},
   "outputs": [],
   "source": [
    "from azureml.core import Workspace\n",
    "ws = Workspace.from_config()\n",
    "iot_hub_name = \"fermi-iot\"\n",
    "iot_device_id = \"fermi-edge\""
   ]
  },
  {
   "cell_type": "markdown",
   "metadata": {},
   "source": [
    "### 3. Attach your IoT Hub as Azure ML Compute\n"
   ]
  },
  {
   "cell_type": "code",
   "execution_count": 9,
   "metadata": {},
   "outputs": [],
   "source": [
    "from azureml.contrib.core.compute import IotHubCompute\n",
    "iothub_compute = IotHubCompute(ws, iot_device_id)"
   ]
  },
  {
   "cell_type": "markdown",
   "metadata": {},
   "source": [
    "List Azure ML Compute Targets."
   ]
  },
  {
   "cell_type": "code",
   "execution_count": 10,
   "metadata": {},
   "outputs": [
    {
     "name": "stdout",
     "output_type": "stream",
     "text": [
      "IotHub 'fermi-edge' has provisioning state 'Succeeded'.\n"
     ]
    }
   ],
   "source": [
    "from azureml.core.compute import ComputeTarget\n",
    "\n",
    "compute_targets = ComputeTarget.list(ws)\n",
    "for t in compute_targets: \n",
    "    if t.type == \"IotHub\":\n",
    "        print(\"IotHub '{}' has provisioning state '{}'.\".format(t.name, t.provisioning_state))"
   ]
  },
  {
   "cell_type": "markdown",
   "metadata": {},
   "source": [
    "### 4. Configure Azure ML module"
   ]
  },
  {
   "cell_type": "code",
   "execution_count": 11,
   "metadata": {},
   "outputs": [],
   "source": [
    "from azureml.contrib.core.webservice import IotWebservice, IotBaseModuleSettings, IotModuleSettings\n",
    "\n",
    "#Pick a module name\n",
    "module_name = \"test-module-4\""
   ]
  },
  {
   "cell_type": "code",
   "execution_count": 12,
   "metadata": {},
   "outputs": [],
   "source": [
    "container_config = '{ \\\n",
    "  \"HostConfig\": { \\\n",
    "    \"Binds\": [ \\\n",
    "      \"/etc/hosts:/etc/hosts\" \\\n",
    "    ], \\\n",
    "    \"Privileged\": true, \\\n",
    "    \"Devices\": [ \\\n",
    "      { \\\n",
    "        \"PathOnHost\": \"/dev/catapult0\", \\\n",
    "        \"PathInContainer\": \"/dev/catapult0\" \\\n",
    "      }, \\\n",
    "      { \\\n",
    "        \"PathOnHost\": \"/dev/catapult1\", \\\n",
    "        \"PathInContainer\": \"/dev/catapult1\" \\\n",
    "      } \\\n",
    "    ], \\\n",
    "    \"PortBindings\": { \\\n",
    "      \"50051/tcp\": [ \\\n",
    "        { \\\n",
    "          \"HostPort\": \"50051\" \\\n",
    "        } \\\n",
    "      ] \\\n",
    "    } \\\n",
    "  } \\\n",
    "}'\n",
    "\n",
    "routes = {\n",
    "    \"route\": \"FROM /messages/* INTO \"\n",
    "}\n",
    "\n",
    "# Here, we define the Azure ML module with the container_config options above\n",
    "aml_module = IotBaseModuleSettings(name=module_name, create_option=container_config)"
   ]
  },
  {
   "cell_type": "markdown",
   "metadata": {},
   "source": [
    "#### b. Deploy from ContainerImage"
   ]
  },
  {
   "cell_type": "markdown",
   "metadata": {},
   "source": [
    "If you've already created an AccelContainerImage with the converted model that you want to run, then you can use the cell below to pull that image and deploy it. This image is stored in your Azure Container Registry (ACR) associated with your Azure ML Workspace."
   ]
  },
  {
   "cell_type": "code",
   "execution_count": 13,
   "metadata": {},
   "outputs": [
    {
     "name": "stdout",
     "output_type": "stream",
     "text": [
      "IOT service creation operation finished, operation \"Succeeded\"\n"
     ]
    }
   ],
   "source": [
    "from azureml.core import Image, Webservice\n",
    "from azureml.contrib.core.webservice import IotWebservice\n",
    "from azureml.accel import AccelContainerImage\n",
    "\n",
    "# This time, we will leave off the external module from the deployment manifest\n",
    "deploy_config = IotWebservice.deploy_configuration(device_id=iot_device_id, routes=routes, aml_module=aml_module)\n",
    "\n",
    "# Deploy from latest version of image, using module_name as your IotWebservice name\n",
    "image_name = \"im-klijnsma-tquarkrn50-v1-s0\"\n",
    "iot_service_name = module_name\n",
    "\n",
    "# Can specify version=x, otherwise will grab latest\n",
    "image = Image(ws, image_name) \n",
    "iot_service = IotWebservice.deploy_from_image(ws, iot_service_name, image, deploy_config, iothub_compute)\n",
    "iot_service.wait_for_deployment()"
   ]
  },
  {
   "cell_type": "code",
   "execution_count": null,
   "metadata": {},
   "outputs": [],
   "source": []
  }
 ],
 "metadata": {
  "authors": [
   {
    "name": "paledger"
   }
  ],
  "kernelspec": {
   "display_name": "Python 3",
   "language": "python",
   "name": "python3"
  },
  "language_info": {
   "codemirror_mode": {
    "name": "ipython",
    "version": 3
   },
   "file_extension": ".py",
   "mimetype": "text/x-python",
   "name": "python",
   "nbconvert_exporter": "python",
   "pygments_lexer": "ipython3",
   "version": "3.6.8"
  }
 },
 "nbformat": 4,
 "nbformat_minor": 4
}
